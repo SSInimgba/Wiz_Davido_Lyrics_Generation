{
 "cells": [
  {
   "cell_type": "markdown",
   "metadata": {},
   "source": [
    "# Scraping Wizkid and Davido's Lyrics from Rap Genius"
   ]
  },
  {
   "cell_type": "markdown",
   "metadata": {},
   "source": [
    "### Purpose: \n",
    "\n",
    "To scrape Wizkid's and Davido's Lyrics from Rap Genius"
   ]
  },
  {
   "cell_type": "markdown",
   "metadata": {},
   "source": [
    "## Imports and authentication"
   ]
  },
  {
   "cell_type": "markdown",
   "metadata": {},
   "source": [
    "We shall use the lyrics genius library which greatly simpifies the calls made to the Genius API\n",
    "\n",
    "Link - https://github.com/johnwmillr/LyricsGenius"
   ]
  },
  {
   "cell_type": "code",
   "execution_count": 1,
   "metadata": {},
   "outputs": [],
   "source": [
    "import lyricsgenius"
   ]
  },
  {
   "cell_type": "markdown",
   "metadata": {},
   "source": [
    "Set access token"
   ]
  },
  {
   "cell_type": "code",
   "execution_count": 2,
   "metadata": {},
   "outputs": [],
   "source": [
    "genius = lyricsgenius.Genius(\"eYzqfXFd1agK7d6SWJKvhihjWx2gVZgyUqX57QvqXAEf1OTADa-w1uvDHaPSQM42\")"
   ]
  },
  {
   "cell_type": "markdown",
   "metadata": {},
   "source": [
    "## Scraping"
   ]
  },
  {
   "cell_type": "markdown",
   "metadata": {},
   "source": [
    "#### 1. Davido"
   ]
  },
  {
   "cell_type": "markdown",
   "metadata": {},
   "source": [
    "Obtain all songs by davido [NB- may take a while]"
   ]
  },
  {
   "cell_type": "code",
   "execution_count": 3,
   "metadata": {
    "scrolled": true
   },
   "outputs": [
    {
     "name": "stdout",
     "output_type": "stream",
     "text": [
      "Searching for songs by Davido...\n",
      "\n",
      "Song 1: \"If\"\n",
      "Song 2: \"Fall\"\n",
      "Song 3: \"FIA\"\n",
      "Song 4: \"Assurance\"\n",
      "Song 5: \"Coolest Kid in Africa\"\n",
      "Song 6: \"Fans Mi\"\n",
      "Song 7: \"Pere\"\n",
      "Song 8: \"Flora My Flawa\"\n",
      "Song 9: \"Like Dat\"\n",
      "Song 10: \"If (Remix)\"\n",
      "Song 11: \"Aye\"\n",
      "Song 12: \"How Long?\"\n",
      "Song 13: \"Dami Duro\"\n",
      "Song 14: \"Gbagbe Oshi\"\n",
      "Song 15: \"Wonder Woman\"\n",
      "Song 16: \"FIA (Remix)\"\n",
      "Song 17: \"Owo Ni Koko\"\n",
      "Song 18: \"Maga 2 Mugu\"\n",
      "Song 19: \"Gobe\"\n",
      "Song 20: \"Return\"\n",
      "Song 21: \"The Money\"\n",
      "Song 22: \"All Of You\"\n",
      "Song 23: \"Skelewu\"\n",
      "Song 24: \"Ekuro\"\n",
      "Song 25: \"The Sound\"\n",
      "Song 26: \"Number One - Remix\"\n",
      "Song 27: \"Nwa Baby\"\n",
      "Song 28: \"One of a Kind\"\n",
      "Song 29: \"Back when (feat. naeto c)\"\n",
      "Song 30: \"Tchelete\"\n",
      "Song 31: \"Feel alright\"\n",
      "Song 32: \"Dollars in the bank (feat. kay switch)\"\n",
      "Song 33: \"Naughty\"\n",
      "Song 34: \"Down\"\n",
      "Song 35: \"Enter the Center (feat. B-Red)\"\n",
      "Song 36: \"Video\"\n",
      "Song 37: \"The Sound (Remix)\"\n",
      "Song 38: \"Bless me\"\n",
      "Song 39: \"Gbon gbon\"\n",
      "Song 40: \"Mary jane\"\n",
      "Song 41: \"Supanatural\"\n",
      "Song 42: \"New skul tinz (feat. sinarambo & b-red)\"\n",
      "Song 43: \"Ofili Gaga\"\n",
      "Song 44: \"Nwaa Baby\"\n",
      "Song 45: \"Maximize Your Space with an Elegant Wardrobe Design\"\n",
      "Done. Found 45 songs.\n"
     ]
    }
   ],
   "source": [
    "davido = genius.search_artist(\"Davido\", max_songs = 60)"
   ]
  },
  {
   "cell_type": "markdown",
   "metadata": {},
   "source": [
    "Create text file where we shall write lyrics to "
   ]
  },
  {
   "cell_type": "code",
   "execution_count": 4,
   "metadata": {},
   "outputs": [],
   "source": [
    "david_text = open('Lyrics_Davido.txt', 'a', encoding = 'utf-8')"
   ]
  },
  {
   "cell_type": "markdown",
   "metadata": {},
   "source": [
    "Write song lyrics to the text file"
   ]
  },
  {
   "cell_type": "code",
   "execution_count": 5,
   "metadata": {},
   "outputs": [
    {
     "name": "stdout",
     "output_type": "stream",
     "text": [
      "Successfully wrote If lyrics to text file\n",
      "Successfully wrote Fall lyrics to text file\n",
      "Successfully wrote FIA lyrics to text file\n",
      "Successfully wrote Assurance lyrics to text file\n",
      "Successfully wrote Coolest Kid in Africa lyrics to text file\n",
      "Successfully wrote Fans Mi lyrics to text file\n",
      "Successfully wrote Pere lyrics to text file\n",
      "Successfully wrote Flora My Flawa lyrics to text file\n",
      "Successfully wrote Like Dat lyrics to text file\n",
      "Successfully wrote If (Remix) lyrics to text file\n",
      "Successfully wrote Aye lyrics to text file\n",
      "Successfully wrote How Long? lyrics to text file\n",
      "Successfully wrote Dami Duro lyrics to text file\n",
      "Successfully wrote Gbagbe Oshi lyrics to text file\n",
      "Successfully wrote Wonder Woman lyrics to text file\n",
      "Successfully wrote FIA (Remix) lyrics to text file\n",
      "Successfully wrote Owo Ni Koko lyrics to text file\n",
      "Successfully wrote Maga 2 Mugu lyrics to text file\n",
      "Successfully wrote Gobe lyrics to text file\n",
      "Successfully wrote Return lyrics to text file\n",
      "Successfully wrote The Money lyrics to text file\n",
      "Successfully wrote All Of You lyrics to text file\n",
      "Successfully wrote Skelewu lyrics to text file\n",
      "Successfully wrote Ekuro lyrics to text file\n",
      "Successfully wrote The Sound lyrics to text file\n",
      "Successfully wrote Number One - Remix lyrics to text file\n",
      "Successfully wrote Nwa Baby lyrics to text file\n",
      "Successfully wrote One of a Kind lyrics to text file\n",
      "Successfully wrote Back when (feat. naeto c) lyrics to text file\n",
      "Successfully wrote Tchelete lyrics to text file\n",
      "Successfully wrote Feel alright lyrics to text file\n",
      "Successfully wrote Dollars in the bank (feat. kay switch) lyrics to text file\n",
      "Successfully wrote Naughty lyrics to text file\n",
      "Successfully wrote Down lyrics to text file\n",
      "Successfully wrote Enter the Center (feat. B-Red) lyrics to text file\n",
      "Successfully wrote Video lyrics to text file\n",
      "Successfully wrote The Sound (Remix) lyrics to text file\n",
      "Successfully wrote Bless me lyrics to text file\n",
      "Successfully wrote Gbon gbon lyrics to text file\n",
      "Successfully wrote Mary jane lyrics to text file\n",
      "Successfully wrote Supanatural lyrics to text file\n",
      "Successfully wrote New skul tinz (feat. sinarambo & b-red) lyrics to text file\n",
      "Successfully wrote Ofili Gaga lyrics to text file\n",
      "Successfully wrote Nwaa Baby lyrics to text file\n",
      "Successfully wrote Maximize Your Space with an Elegant Wardrobe Design lyrics to text file\n"
     ]
    }
   ],
   "source": [
    "for song in davido.songs:\n",
    "    david_text.write('\\n\\n' + song.title + '\\n\\n' + song.lyrics)\n",
    "    print('Successfully wrote', song.title, 'lyrics to text file')"
   ]
  },
  {
   "cell_type": "markdown",
   "metadata": {},
   "source": [
    "The last song - \"Maximize...\" is an advert and I have manually deleted it from the text file. "
   ]
  },
  {
   "cell_type": "markdown",
   "metadata": {},
   "source": [
    "Close file"
   ]
  },
  {
   "cell_type": "code",
   "execution_count": 7,
   "metadata": {},
   "outputs": [],
   "source": [
    "david_text.close()"
   ]
  },
  {
   "cell_type": "markdown",
   "metadata": {},
   "source": [
    "  "
   ]
  },
  {
   "cell_type": "markdown",
   "metadata": {},
   "source": [
    "#### 2. Wizkid"
   ]
  },
  {
   "cell_type": "code",
   "execution_count": 9,
   "metadata": {},
   "outputs": [
    {
     "name": "stdout",
     "output_type": "stream",
     "text": [
      "Searching for songs by Wizkid...\n",
      "\n",
      "Song 1: \"Come Closer\"\n",
      "Song 2: \"Ojuelegba (Remix)\"\n",
      "Song 3: \"Ojuelegba\"\n",
      "Song 4: \"Jaiye Jaiye\"\n",
      "Song 5: \"Fever\"\n",
      "Song 6: \"African Bad Gyal\"\n",
      "Song 7: \"Daddy Yo\"\n",
      "\"OVO Sound Radio Episode 37 Tracklist\" is not valid. Skipping.\n",
      "Song 8: \"Don't Dull\"\n",
      "Song 9: \"Everytime\"\n",
      "Song 10: \"Final (Baba Nla)\"\n",
      "Song 11: \"Naughty Ride\"\n",
      "Song 12: \"Sweet Love\"\n",
      "Song 13: \"Medicine\"\n",
      "Song 14: \"Shabba (Remix)\"\n",
      "Song 15: \"Picture Perfect\"\n",
      "Song 16: \"Lagos Vibes\"\n",
      "Song 17: \"Pick Up The Phone (Refix)\"\n",
      "Song 18: \"One For Me\"\n",
      "Song 19: \"Odoo\"\n",
      "Song 20: \"Love My Baby\"\n",
      "Song 21: \"Dirty Wine\"\n",
      "Song 22: \"Nobody\"\n",
      "Song 23: \"Tease Me / Bad Guys\"\n",
      "Song 24: \"Gbese\"\n",
      "Song 25: \"Sexy\"\n",
      "Song 26: \"Azonto\"\n",
      "Song 27: \"Oluwa Lo Ni\"\n",
      "Song 28: \"No Lele\"\n",
      "Song 29: \"All For Love\"\n",
      "Song 30: \"Drop\"\n",
      "Song 31: \"In My Bed\"\n",
      "Song 32: \"Highgrade\"\n",
      "Song 33: \"Joy\"\n",
      "Song 34: \"Holla at your boy\"\n",
      "Song 35: \"Show You the Money\"\n",
      "Song 36: \"Medicine Remix\"\n",
      "Song 37: \"For You\"\n",
      "Song 38: \"Sisi Nene\"\n",
      "Song 39: \"On Top Your Matter\"\n",
      "Song 40: \"Bombay\"\n",
      "Song 41: \"Say My Name\"\n",
      "Song 42: \"Craving\"\n",
      "Song 43: \"Master Groove\"\n",
      "Song 44: \"Shout Out\"\n",
      "Song 45: \"Celebrate\"\n",
      "Song 46: \"Pakurumo\"\n",
      "Song 47: \"Gidi Girl\"\n",
      "Song 48: \"Eledumare\"\n",
      "Song 49: \"Caro\"\n",
      "Song 50: \"Ghetto Youth Freestyle\"\n",
      "Song 51: \"Ki Lo Fe\"\n",
      "Song 52: \"For Me\"\n",
      "Song 53: \"Thank You\"\n",
      "Song 54: \"Kind Love\"\n",
      "Song 55: \"Scatter The Floor\"\n",
      "\"Tokooos [Tracklist + Pochette]\" is not valid. Skipping.\n",
      "Song 56: \"What you wanna do\"\n",
      "Song 57: \"Wiz party (bonus freestyle leak)\"\n",
      "Song 58: \"Sweat (Doin' It Refix)\"\n",
      "Song 59: \"Omalicha\"\n",
      "\"Peace Is The Mission + Peace Is The Mission: Extended [Booklet]\" is not valid. Skipping.\n",
      "Song 60: \"Slow whine (feat. banky w)\"\n",
      "\n",
      "Reached user-specified song limit (60).\n",
      "Done. Found 60 songs.\n"
     ]
    }
   ],
   "source": [
    "wizkid = genius.search_artist(\"Wizkid\", max_songs = 100)"
   ]
  },
  {
   "cell_type": "code",
   "execution_count": 10,
   "metadata": {},
   "outputs": [],
   "source": [
    "wizkid_text = open('Lyrics_Wizkid.txt', 'a', encoding = 'utf-8')"
   ]
  },
  {
   "cell_type": "code",
   "execution_count": 12,
   "metadata": {},
   "outputs": [
    {
     "name": "stdout",
     "output_type": "stream",
     "text": [
      "Successfully wrote Come Closer lyrics to text file\n",
      "Successfully wrote Ojuelegba (Remix) lyrics to text file\n",
      "Successfully wrote Ojuelegba lyrics to text file\n",
      "Successfully wrote Jaiye Jaiye lyrics to text file\n",
      "Successfully wrote Fever lyrics to text file\n",
      "Successfully wrote African Bad Gyal lyrics to text file\n",
      "Successfully wrote Daddy Yo lyrics to text file\n",
      "Successfully wrote Don't Dull lyrics to text file\n",
      "Successfully wrote Everytime lyrics to text file\n",
      "Successfully wrote Final (Baba Nla) lyrics to text file\n",
      "Successfully wrote Naughty Ride lyrics to text file\n",
      "Successfully wrote Sweet Love lyrics to text file\n",
      "Successfully wrote Medicine lyrics to text file\n",
      "Successfully wrote Shabba (Remix) lyrics to text file\n",
      "Successfully wrote Picture Perfect lyrics to text file\n",
      "Successfully wrote Lagos Vibes lyrics to text file\n",
      "Successfully wrote Pick Up The Phone (Refix) lyrics to text file\n",
      "Successfully wrote One For Me lyrics to text file\n",
      "Successfully wrote Odoo lyrics to text file\n",
      "Successfully wrote Love My Baby lyrics to text file\n",
      "Successfully wrote Dirty Wine lyrics to text file\n",
      "Successfully wrote Nobody lyrics to text file\n",
      "Successfully wrote Tease Me / Bad Guys lyrics to text file\n",
      "Successfully wrote Gbese lyrics to text file\n",
      "Successfully wrote Sexy lyrics to text file\n",
      "Successfully wrote Azonto lyrics to text file\n",
      "Successfully wrote Oluwa Lo Ni lyrics to text file\n",
      "Successfully wrote No Lele lyrics to text file\n",
      "Successfully wrote All For Love lyrics to text file\n",
      "Successfully wrote Drop lyrics to text file\n",
      "Successfully wrote In My Bed lyrics to text file\n",
      "Successfully wrote Highgrade lyrics to text file\n",
      "Successfully wrote Joy lyrics to text file\n",
      "Successfully wrote Holla at your boy lyrics to text file\n",
      "Successfully wrote Show You the Money lyrics to text file\n",
      "Successfully wrote Medicine Remix lyrics to text file\n",
      "Successfully wrote For You lyrics to text file\n",
      "Successfully wrote Sisi Nene lyrics to text file\n",
      "Successfully wrote On Top Your Matter lyrics to text file\n",
      "Successfully wrote Bombay lyrics to text file\n",
      "Successfully wrote Say My Name lyrics to text file\n",
      "Successfully wrote Craving lyrics to text file\n",
      "Successfully wrote Master Groove lyrics to text file\n",
      "Successfully wrote Shout Out lyrics to text file\n",
      "Successfully wrote Celebrate lyrics to text file\n",
      "Successfully wrote Pakurumo lyrics to text file\n",
      "Successfully wrote Gidi Girl lyrics to text file\n",
      "Successfully wrote Eledumare lyrics to text file\n",
      "Successfully wrote Caro lyrics to text file\n",
      "Successfully wrote Ghetto Youth Freestyle lyrics to text file\n",
      "Successfully wrote Ki Lo Fe lyrics to text file\n",
      "Successfully wrote For Me lyrics to text file\n",
      "Successfully wrote Thank You lyrics to text file\n",
      "Successfully wrote Kind Love lyrics to text file\n",
      "Successfully wrote Scatter The Floor lyrics to text file\n",
      "Successfully wrote What you wanna do lyrics to text file\n",
      "Successfully wrote Wiz party (bonus freestyle leak) lyrics to text file\n",
      "Successfully wrote Sweat (Doin' It Refix) lyrics to text file\n",
      "Successfully wrote Omalicha lyrics to text file\n",
      "Successfully wrote Slow whine (feat. banky w) lyrics to text file\n"
     ]
    }
   ],
   "source": [
    "for song in wizkid.songs:\n",
    "    wizkid_text.write('\\n\\n' + song.title + '\\n\\n' + song.lyrics)\n",
    "    print('Successfully wrote', song.title, 'lyrics to text file')"
   ]
  },
  {
   "cell_type": "code",
   "execution_count": 13,
   "metadata": {},
   "outputs": [],
   "source": [
    "wizkid_text.close()"
   ]
  },
  {
   "cell_type": "markdown",
   "metadata": {},
   "source": [
    "PS: I put the limit at 60 songs so that it does not significantly outweigh Davido's entire discography and we have an unbalanced corpus of mostly WizKid's songs. "
   ]
  },
  {
   "cell_type": "code",
   "execution_count": null,
   "metadata": {},
   "outputs": [],
   "source": []
  }
 ],
 "metadata": {
  "kernelspec": {
   "display_name": "Python 3",
   "language": "python",
   "name": "python3"
  },
  "language_info": {
   "codemirror_mode": {
    "name": "ipython",
    "version": 3
   },
   "file_extension": ".py",
   "mimetype": "text/x-python",
   "name": "python",
   "nbconvert_exporter": "python",
   "pygments_lexer": "ipython3",
   "version": "3.7.3"
  }
 },
 "nbformat": 4,
 "nbformat_minor": 2
}
